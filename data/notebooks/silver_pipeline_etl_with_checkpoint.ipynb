{
 "cells": [
  {
   "cell_type": "code",
   "execution_count": null,
   "id": "63d39169",
   "metadata": {
    "vscode": {
     "languageId": "plaintext"
    }
   },
   "outputs": [],
   "source": [
    "#- Load Bronze files with file paths\n",
    "\n",
    "df_all = spark.read.option(\"multiline\", \"true\").json(\"Files/Bronze/\") \\\n",
    "    .withColumn(\"source_file\", input_file_name())\n"
   ]
  },
  {
   "cell_type": "code",
   "execution_count": null,
   "id": "71827ce5",
   "metadata": {
    "vscode": {
     "languageId": "plaintext"
    }
   },
   "outputs": [],
   "source": [
    "#- Load checkpoint table:\n",
    "\n",
    "df_checkpoint = spark.table(\"bronze_file_checkpoints\").select(\"source_file\").distinct()"
   ]
  },
  {
   "cell_type": "code",
   "execution_count": null,
   "id": "04b18114",
   "metadata": {
    "vscode": {
     "languageId": "plaintext"
    }
   },
   "outputs": [],
   "source": [
    "#- Filter out already-processed files\n",
    "\n",
    "df_new = df_all.join(df_checkpoint, on=\"source_file\", how=\"left_anti\")"
   ]
  },
  {
   "cell_type": "code",
   "execution_count": null,
   "id": "0134f6ee",
   "metadata": {
    "vscode": {
     "languageId": "plaintext"
    }
   },
   "outputs": [],
   "source": [
    "#- Clean, dedup, and write to silver_user_events\n",
    "\n",
    "df_deduped.write.mode(\"append\") \\\n",
    "    .option(\"mergeSchema\", \"true\") \\\n",
    "    .format(\"delta\") \\\n",
    "    .saveAsTable(\"silver_user_events\")\n"
   ]
  },
  {
   "cell_type": "code",
   "execution_count": null,
   "id": "d211e850",
   "metadata": {
    "vscode": {
     "languageId": "plaintext"
    }
   },
   "outputs": [],
   "source": [
    "#- Update checkpoint table:\n",
    "df_new.select(\"source_file\").distinct() \\\n",
    "    .withColumn(\"load_time\", current_timestamp()) \\\n",
    "    .write.mode(\"append\").format(\"delta\").saveAsTable(\"bronze_file_checkpoints\")"
   ]
  }
 ],
 "metadata": {
  "language_info": {
   "name": "python"
  }
 },
 "nbformat": 4,
 "nbformat_minor": 5
}
