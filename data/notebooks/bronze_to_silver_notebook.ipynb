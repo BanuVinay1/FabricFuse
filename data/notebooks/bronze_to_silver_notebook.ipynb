{
 "cells": [
  {
   "cell_type": "code",
   "execution_count": null,
   "id": "ea69da46",
   "metadata": {
    "vscode": {
     "languageId": "plaintext"
    }
   },
   "outputs": [],
   "source": [
    "#Cell 1: Load Bronze files from Lakehouse\n",
    "\n",
    "df_raw = spark.read.option(\"multiline\", \"true\").json(\"Files/Bronze/\")\n",
    "display(df_raw.limit(10))\n"
   ]
  },
  {
   "cell_type": "code",
   "execution_count": null,
   "id": "822053a4",
   "metadata": {
    "vscode": {
     "languageId": "plaintext"
    }
   },
   "outputs": [],
   "source": [
    "#Cell 2: Flatten + Clean Schema\n",
    "from pyspark.sql.functions import col\n",
    "\n",
    "df_cleaned = df_raw.select(\n",
    "    col(\"user_id\").cast(\"int\"),\n",
    "    col(\"event_time\").cast(\"timestamp\"),\n",
    "    col(\"event_type\").cast(\"string\"),\n",
    "    col(\"device_type\").cast(\"string\")  # might be null for older files\n",
    ").dropna(subset=[\"user_id\", \"event_time\"])\n"
   ]
  },
  {
   "cell_type": "code",
   "execution_count": null,
   "id": "7669388d",
   "metadata": {
    "vscode": {
     "languageId": "plaintext"
    }
   },
   "outputs": [],
   "source": [
    "#Cell 3: Deduplicate Based on Row Content\n",
    "from pyspark.sql.functions import sha2, concat_ws\n",
    "\n",
    "df_deduped = df_cleaned.withColumn(\n",
    "    \"dedup_key\",\n",
    "    sha2(concat_ws(\"||\", \"user_id\", \"event_time\", \"event_type\", \"device_type\"), 256)\n",
    ").dropDuplicates([\"dedup_key\"])\n"
   ]
  },
  {
   "cell_type": "code",
   "execution_count": null,
   "id": "0c0f1103",
   "metadata": {
    "vscode": {
     "languageId": "plaintext"
    }
   },
   "outputs": [],
   "source": [
    "#Cell 4: Write to Silver Delta Table (with schema evolution)\n",
    "df_deduped.write.mode(\"append\") \\\n",
    "    .option(\"mergeSchema\", \"true\") \\\n",
    "    .format(\"delta\") \\\n",
    "    .saveAsTable(\"silver_user_events\")\n"
   ]
  }
 ],
 "metadata": {
  "language_info": {
   "name": "python"
  }
 },
 "nbformat": 4,
 "nbformat_minor": 5
}
